{
 "cells": [
  {
   "cell_type": "markdown",
   "metadata": {},
   "source": [
    "### Homework assignment for clinical NLP"
   ]
  },
  {
   "cell_type": "markdown",
   "metadata": {},
   "source": [
    "(1) Regular Expressions. Complete first 8 “lessons” at https://regexone.com/"
   ]
  },
  {
   "cell_type": "markdown",
   "metadata": {},
   "source": [
    "(2) Propose a simple way of finding negations in a sentence using regular expressions.  \n",
    "Your regular expression should make use of the | and * symbols."
   ]
  },
  {
   "cell_type": "code",
   "execution_count": 2,
   "metadata": {
    "collapsed": false
   },
   "outputs": [],
   "source": [
    "import re\n",
    "\n",
    "from sklearn.datasets import fetch_20newsgroups\n",
    "news = fetch_20newsgroups(subset='train',\n",
    "                          categories=('rec.autos',\n",
    "                             'rec.motorcycles',\n",
    "                             'rec.sport.baseball',\n",
    "                             'rec.sport.hockey'),\n",
    "                          remove=('headers', 'footers', 'quotes'))"
   ]
  },
  {
   "cell_type": "code",
   "execution_count": 3,
   "metadata": {
    "collapsed": false
   },
   "outputs": [
    {
     "name": "stdout",
     "output_type": "stream",
     "text": [
      "['not ', 'not ', 'not ', 'not ', 'not ', 'no ', 'not ', 'not ', 'not ', 'not ']\n"
     ]
    }
   ],
   "source": [
    "some_text = '\\n'.join(news.data[:1000])\n",
    "no = re.findall(r'no[r|t]*\\s+', some_text)\n",
    "print (no[:10])"
   ]
  },
  {
   "cell_type": "markdown",
   "metadata": {},
   "source": [
    "(3) Use NLTK to tokenize, stem, POS tag, and find named entities in \n",
    "“Fx of obesity but no fx of coronary artery diseases.”  \n",
    "What named entities are in this sentence? What named entities does NLTK recognize? \n",
    "Use NLTK to plot the parse tree returned by "
   ]
  },
  {
   "cell_type": "code",
   "execution_count": 31,
   "metadata": {
    "collapsed": false
   },
   "outputs": [
    {
     "name": "stdout",
     "output_type": "stream",
     "text": [
      "['which', 'Fx', 'of', 'obes', 'but', 'no', 'fx', 'of', 'coronari', 'arteri', 'diseas']\n",
      "[('Which', 'JJ'), ('Fx', 'NNP'), ('of', 'IN'), ('obesity', 'NN'), ('but', 'CC'), ('no', 'DT'), ('fx', 'NN'), ('of', 'IN'), ('coronary', 'JJ'), ('artery', 'NN'), ('disease', 'NN')]\n",
      "(S\n",
      "  (PERSON Which/JJ Fx/NNP)\n",
      "  of/IN\n",
      "  obesity/NN\n",
      "  but/CC\n",
      "  no/DT\n",
      "  fx/NN\n",
      "  of/IN\n",
      "  coronary/JJ\n",
      "  artery/NN\n",
      "  disease/NN)\n"
     ]
    },
    {
     "data": {
      "image/png": "[encoded data removed]",
      "text/plain": [
       "Tree('S', [Tree('PERSON', [('Which', 'JJ'), ('Fx', 'NNP')]), ('of', 'IN'), ('obesity', 'NN'), ('but', 'CC'), ('no', 'DT'), ('fx', 'NN'), ('of', 'IN'), ('coronary', 'JJ'), ('artery', 'NN'), ('disease', 'NN')])"
      ]
     },
     "execution_count": 31,
     "metadata": {},
     "output_type": "execute_result"
    }
   ],
   "source": [
    "import nltk\n",
    "import os\n",
    "\n",
    "s = \"Which Fx of obesity but no fx of coronary artery disease\"\n",
    "tokens = nltk.word_tokenize(s)\n",
    "print ([nltk.PorterStemmer().stem(t) for t in tokens])\n",
    "\n",
    "print (nltk.pos_tag(tokens))\n",
    "\n",
    "print (nltk.ne_chunk(nltk.pos_tag(tokens), binary=False))\n",
    "\n",
    "sentence = nltk.ne_chunk(nltk.pos_tag(tokens))\n",
    "\n",
    "import os\n",
    "from IPython.core.display import display\n",
    "os.environ['PATH'] += os.pathsep + '/usr/local/Cellar/ghostscript/9.20/bin'\n",
    "sentence"
   ]
  },
  {
   "cell_type": "markdown",
   "metadata": {},
   "source": [
    "(4) Give several tokens with the “WDT” POS tag"
   ]
  },
  {
   "cell_type": "code",
   "execution_count": 32,
   "metadata": {
    "collapsed": false
   },
   "outputs": [
    {
     "name": "stdout",
     "output_type": "stream",
     "text": [
      "WDT: WH-determiner\n",
      "    that what whatever which whichever\n",
      "None\n",
      "['which', 'Fx', 'of', 'obes', 'but', 'no', 'fx', 'of', 'coronari', 'arteri', 'diseas']\n",
      "[('which', 'WDT'), ('Fx', 'NNP'), ('of', 'IN'), ('obesity', 'NN'), ('but', 'CC'), ('no', 'DT'), ('fx', 'NN'), ('of', 'IN'), ('coronary', 'JJ'), ('artery', 'NN'), ('disease', 'NN')]\n",
      "(S\n",
      "  which/WDT\n",
      "  Fx/NNP\n",
      "  of/IN\n",
      "  obesity/NN\n",
      "  but/CC\n",
      "  no/DT\n",
      "  fx/NN\n",
      "  of/IN\n",
      "  coronary/JJ\n",
      "  artery/NN\n",
      "  disease/NN)\n"
     ]
    }
   ],
   "source": [
    "import nltk\n",
    "print (nltk.help.upenn_tagset('WDT'))\n",
    "\n",
    "s = \"which Fx of obesity but no fx of coronary artery disease\"\n",
    "tokens = nltk.word_tokenize(s)\n",
    "\n",
    "print ([nltk.PorterStemmer().stem(t) for t in tokens])\n",
    "\n",
    "print (nltk.pos_tag(tokens))\n",
    "\n",
    "print (nltk.ne_chunk(nltk.pos_tag(tokens), binary=False))"
   ]
  },
  {
   "cell_type": "markdown",
   "metadata": {},
   "source": [
    "(5) Create a dispersion plot of \"moon, earth, sun, mars\" in the 'sci.space' category of 20 newsgroups."
   ]
  },
  {
   "cell_type": "code",
   "execution_count": 59,
   "metadata": {
    "collapsed": false
   },
   "outputs": [
    {
     "data": {
      "image/png": "[encoded data removed]",
      "text/plain": [
       "<matplotlib.figure.Figure at 0x117c1ffd0>"
      ]
     },
     "metadata": {},
     "output_type": "display_data"
    }
   ],
   "source": [
    "import itertools\n",
    "\n",
    "from nltk.tokenize import sent_tokenize, word_tokenize\n",
    "\n",
    "from sklearn.datasets import fetch_20newsgroups\n",
    "science = ['sci.space']\n",
    "science_news = fetch_20newsgroups(subset='train', categories=sci, \n",
    "                                  remove=('headers', 'footers', 'quotes'))\n",
    "\n",
    "tokens = list()\n",
    "for doc in science_news.data:\n",
    " sents = nltk.sent_tokenize(doc)\n",
    " for i, s in enumerate(sents):\n",
    "    tokens.append(nltk.word_tokenize(s))\n",
    "\n",
    "all_tokens = list(itertools.chain.from_iterable(tokens))\n",
    "\n",
    "normalized_tokens = [t.lower() for t in all_tokens]\n",
    "\n",
    "text_tokens = nltk.Text(normalized_tokens)\n",
    "text_tokens.dispersion_plot(['moon','earth','sun','mars'])"
   ]
  },
  {
   "cell_type": "markdown",
   "metadata": {},
   "source": [
    "(6) Write a tag pattern to cover noun phrases that contain gerunds, \n",
    "e.g. \"the/DT receiving/VBG end/NN\", \"assistant/NN managing/VBG editor/NN\". \n",
    "Add these patterns to the grammar, one per line. \n",
    "Test your work using some tagged sentences of your own devising."
   ]
  },
  {
   "cell_type": "code",
   "execution_count": 61,
   "metadata": {
    "collapsed": false
   },
   "outputs": [
    {
     "data": {
      "image/png": "[encoded data removed]",
      "text/plain": [
       "Tree('S', [('K', 'NNP'), ('y', 'NNP'), Tree('NP', [('l', 'NN')]), Tree('NP', [('e', 'NN')]), Tree('NP', [(' ', 'NN')]), Tree('NP', [('i', 'NN')]), ('s', 'VBP'), Tree('NP', [(' ', 'NN')]), Tree('NP', [('h', 'NN')]), Tree('NP', [('a', 'DT'), ('v', 'NN')]), Tree('NP', [('i', 'NN')]), ('n', 'VBP'), Tree('NP', [('g', 'NN')]), (' ', 'VBP'), Tree('NP', [('a', 'DT'), (' ', 'JJ'), ('r', 'NN')]), Tree('NP', [('e', 'NN')]), ('m', 'VBD'), Tree('NP', [('a', 'DT'), ('r', 'NN')]), Tree('NP', [('k', 'NN')]), Tree('NP', [('a', 'DT'), ('b', 'NN')]), Tree('NP', [('l', 'NN')]), Tree('NP', [('y', 'NN')]), (' ', 'NNP'), Tree('NP', [('t', 'NN')]), Tree('NP', [('o', 'NN')]), Tree('NP', [('u', 'JJ'), ('g', 'NN')]), Tree('NP', [('h', 'NN')]), (' ', 'NNP'), Tree('NP', [('t', 'NN')]), Tree('NP', [('i', 'NN')]), ('m', 'VBP'), Tree('NP', [('e', 'NN')]), (' ', 'NNP'), Tree('NP', [('g', 'NN')]), Tree('NP', [('e', 'NN')]), ('t', 'IN'), Tree('NP', [('t', 'NN')]), Tree('NP', [('i', 'NN')]), ('n', 'VBP'), Tree('NP', [('g', 'NN')]), Tree('NP', [(' ', 'NN')]), Tree('NP', [('h', 'NN')]), ('i', 'JJ'), ('s', 'VBP'), Tree('NP', [(' ', 'JJ'), ('h', 'NN')]), Tree('NP', [('o', 'JJ'), ('m', 'NN')]), Tree('NP', [('e', 'NN')]), Tree('NP', [('w', 'NN')]), Tree('NP', [('o', 'NN')]), Tree('NP', [('r', 'NN')]), Tree('NP', [('k', 'NN')]), (' ', 'NNP'), Tree('NP', [('d', 'NN')]), Tree('NP', [('o', 'NN')]), Tree('NP', [('n', 'JJ'), ('e', 'NN')]), (' ', 'NNP'), ('o', 'VBZ'), ('n', 'JJ'), (' ', 'NNP'), Tree('NP', [('t', 'NN')]), Tree('NP', [('i', 'NN')]), ('m', 'VBP'), Tree('NP', [('e', 'NN')]), ('.', '.')])"
      ]
     },
     "metadata": {},
     "output_type": "display_data"
    }
   ],
   "source": [
    "import os\n",
    "from IPython.core.display import display\n",
    "os.environ['PATH'] += os.pathsep + '/usr/local/Cellar/ghostscript/9.20/bin'\n",
    "\n",
    "grammar= r\"\"\"\n",
    "verbies: {<DT>?<NN>?<VBG><NN>}\n",
    "NP: {<DT|PP\\$>?<JJ>*<NN>} \"\"\"\n",
    "\n",
    "cp = nltk.RegexpParser(grammar)\n",
    "\n",
    "chunkers = nltk.ne_chunk(nltk.pos_tag(\"Kyle is having a remarkably tough time getting his homework done on time.\"))\n",
    "\n",
    "display(cp.parse(chunkers))"
   ]
  },
  {
   "cell_type": "markdown",
   "metadata": {},
   "source": [
    "(7) Use the function nltk.ne_chunk_sents to find top 10 most common named entities in the 'sci.med' category of 20 newsgroups."
   ]
  },
  {
   "cell_type": "code",
   "execution_count": 55,
   "metadata": {
    "collapsed": false
   },
   "outputs": [
    {
     "data": {
      "text/plain": [
       "[('the', 6298),\n",
       " (',', 6115),\n",
       " ('.', 5567),\n",
       " ('of', 2964),\n",
       " ('to', 2836),\n",
       " ('and', 2594),\n",
       " ('a', 2535),\n",
       " (')', 2037),\n",
       " ('(', 1933),\n",
       " ('in', 1811)]"
      ]
     },
     "execution_count": 55,
     "metadata": {},
     "output_type": "execute_result"
    }
   ],
   "source": [
    "from nltk import FreqDist\n",
    "f = FreqDist(text_tokens)\n",
    "f.most_common(10)"
   ]
  },
  {
   "cell_type": "markdown",
   "metadata": {},
   "source": [
    "(8) Look at http://scikit-learn.org/stable/modules/feature_extraction.html\n",
    "\n",
    "Start by initializing ngram_vectorizer = CountVectorizer(analyzer='char_wb', ngram_range=(2, 2), min_df=1)\n",
    "\n",
    "- Apply this to “Fx of obesity but no fx of coronary artery diseases.” \n",
    "- How many features are there?\n",
    "- How many features do you get with setting ngram_range=(2, 5)?"
   ]
  },
  {
   "cell_type": "code",
   "execution_count": 54,
   "metadata": {
    "collapsed": false
   },
   "outputs": [
    {
     "name": "stdout",
     "output_type": "stream",
     "text": [
      "40\n",
      "132\n"
     ]
    }
   ],
   "source": [
    "from sklearn.feature_extraction.text import CountVectorizer\n",
    "s = \"Fx of obesity but no fx of coronary artery diseases.\"\n",
    "ngram_vectorizer = CountVectorizer(analyzer='char_wb', ngram_range=(2, 2), min_df=1)\n",
    "x = ngram_vectorizer.fit_transform([s])\n",
    "print (len(ngram_vectorizer.get_feature_names()))\n",
    "\n",
    "ngram_vectorizer = CountVectorizer(analyzer='char_wb', ngram_range=(2, 5), min_df=1)\n",
    "x = ngram_vectorizer.fit_transform([s])\n",
    "print (len(ngram_vectorizer.get_feature_names()))\n",
    "\n",
    "###there's no way this is right. but I have to move on. "
   ]
  },
  {
   "cell_type": "markdown",
   "metadata": {},
   "source": [
    "(9) Read article on Parsey McParseface:\n",
    "\n",
    "https://www.washingtonpost.com/news/wonk/wp/2016/05/18/googles-new-artificial-intelligence-cant-understand-these-sentences-can-you/?utm_term=.cf835cf7e5fd\n",
    "\n",
    "What is a garden-path sentence?  \n",
    "Can Parsey McParseface help with pronoun resolution across sentences?"
   ]
  },
  {
   "cell_type": "code",
   "execution_count": null,
   "metadata": {
    "collapsed": true
   },
   "outputs": [],
   "source": [
    "# garden path sentences are a very silly way of using the english languge, that are confusing\n",
    "# for both humans and computers alike. The structure of the sentence leaves makes the interpretation\n",
    "# completely ambiguous open to multiple different interpretations. It almost seems unfair that\n",
    "# we would make computers try and understand such sentences, but PMP can partially understand \n",
    "# some of these sentence types. A review on Quora pointed out that PMP could handle \"the old\n",
    "# man the boat\" \"while the man hunted the deer ran into the woods\" \"while anna dressed the baby\n",
    "# played in the crib.\" but did not correctly interpret: \"I convinced her children are noisy\" \n",
    "# \"the coach smiled at the player tossed the frisbee\" \"the cotton clothes are made up of grows\n",
    "# in Mississippi.\""
   ]
  }
 ],
 "metadata": {
  "anaconda-cloud": {},
  "kernelspec": {
   "display_name": "Python 3",
   "language": "python",
   "name": "python3"
  },
  "language_info": {
   "codemirror_mode": {
    "name": "ipython",
    "version": 3
   },
   "file_extension": ".py",
   "mimetype": "text/x-python",
   "name": "python",
   "nbconvert_exporter": "python",
   "pygments_lexer": "ipython3",
   "version": "3.6.0"
  }
 },
 "nbformat": 4,
 "nbformat_minor": 1
}
